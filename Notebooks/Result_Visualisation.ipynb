{
 "cells": [
  {
   "cell_type": "markdown",
   "id": "f270decb-0429-4e91-a753-85919c17a5c2",
   "metadata": {},
   "source": [
    "# Comparative Evaluation of Machine Learning Models: Neural Networks, SVM, and Random Forest\n",
    "---\n",
    "In this notebook, we will perform a comprehensive evaluation of three popular machine learning models: Neural Networks, Support Vector Machines (SVM), and Random Forest. These models will be tested on the validation dataset (10% of the entire dataset, 1000 instances), and we will analyze their performance using various evaluation metrics such as confusion matrices, classification reports, and accuracy scores.\n",
    "\n",
    "The goal is to understand how each model performs in terms of key classification metrics and provide insights into which model best suits the problem at hand. By comparing these models, we can highlight their strengths, weaknesses, and applicability to different types of data. This notebook aims to give a clear and visual understanding of how these models differ in their approach and effectiveness for classification tasks."
   ]
  },
  {
   "cell_type": "markdown",
   "id": "8fc5adcf-e2ef-4112-b2fd-1a4f879c22f9",
   "metadata": {},
   "source": [
    "## **Loading The Data**"
   ]
  },
  {
   "cell_type": "markdown",
   "id": "569dc995-6ea6-419f-955f-f4c7b99f2128",
   "metadata": {},
   "source": [
    "### Importing Required Libraries"
   ]
  },
  {
   "cell_type": "code",
   "execution_count": 8,
   "id": "7f66d8f8-3bf5-45cb-b90f-3fa7af427f4f",
   "metadata": {},
   "outputs": [],
   "source": [
    "# Import necessary libraries\n",
    "import pandas as pd\n",
    "import numpy as np\n",
    "import matplotlib.pyplot as plt\n",
    "import seaborn as sns\n",
    "from sklearn.preprocessing import StandardScaler\n",
    "from sklearn.metrics import confusion_matrix, classification_report\n",
    "import pickle"
   ]
  },
  {
   "cell_type": "markdown",
   "id": "cec3bb49-a221-4628-a35d-9025dee89c0e",
   "metadata": {},
   "source": [
    "### Loading Validation Data From CSV File"
   ]
  },
  {
   "cell_type": "code",
   "execution_count": 9,
   "id": "e0fe4223-eb5c-44fe-b7f8-2ea58259428a",
   "metadata": {},
   "outputs": [
    {
     "data": {
      "text/html": [
       "<div>\n",
       "<style scoped>\n",
       "    .dataframe tbody tr th:only-of-type {\n",
       "        vertical-align: middle;\n",
       "    }\n",
       "\n",
       "    .dataframe tbody tr th {\n",
       "        vertical-align: top;\n",
       "    }\n",
       "\n",
       "    .dataframe thead th {\n",
       "        text-align: right;\n",
       "    }\n",
       "</style>\n",
       "<table border=\"1\" class=\"dataframe\">\n",
       "  <thead>\n",
       "    <tr style=\"text-align: right;\">\n",
       "      <th></th>\n",
       "      <th>Feature_1</th>\n",
       "      <th>Feature_2</th>\n",
       "      <th>Feature_3</th>\n",
       "      <th>Feature_4</th>\n",
       "      <th>Feature_5</th>\n",
       "      <th>Feature_6</th>\n",
       "      <th>Feature_7</th>\n",
       "      <th>Feature_8</th>\n",
       "      <th>Feature_9</th>\n",
       "      <th>Feature_10</th>\n",
       "      <th>...</th>\n",
       "      <th>Feature_12</th>\n",
       "      <th>Feature_13</th>\n",
       "      <th>Feature_14</th>\n",
       "      <th>Feature_15</th>\n",
       "      <th>Feature_16</th>\n",
       "      <th>Feature_17</th>\n",
       "      <th>Feature_18</th>\n",
       "      <th>Feature_19</th>\n",
       "      <th>Feature_20</th>\n",
       "      <th>Class</th>\n",
       "    </tr>\n",
       "  </thead>\n",
       "  <tbody>\n",
       "    <tr>\n",
       "      <th>0</th>\n",
       "      <td>0.081546</td>\n",
       "      <td>-0.801783</td>\n",
       "      <td>-1.037828</td>\n",
       "      <td>-1.480850</td>\n",
       "      <td>0.926351</td>\n",
       "      <td>-0.182794</td>\n",
       "      <td>0.357295</td>\n",
       "      <td>-1.083902</td>\n",
       "      <td>0.851105</td>\n",
       "      <td>0.083213</td>\n",
       "      <td>...</td>\n",
       "      <td>0.051561</td>\n",
       "      <td>-0.194943</td>\n",
       "      <td>-0.244506</td>\n",
       "      <td>-0.143106</td>\n",
       "      <td>-0.263665</td>\n",
       "      <td>-0.408418</td>\n",
       "      <td>-1.885802</td>\n",
       "      <td>-0.042930</td>\n",
       "      <td>1.175097</td>\n",
       "      <td>1</td>\n",
       "    </tr>\n",
       "    <tr>\n",
       "      <th>1</th>\n",
       "      <td>-0.280103</td>\n",
       "      <td>-0.271264</td>\n",
       "      <td>-0.431566</td>\n",
       "      <td>1.285697</td>\n",
       "      <td>-0.049563</td>\n",
       "      <td>-3.713341</td>\n",
       "      <td>3.942434</td>\n",
       "      <td>-0.323473</td>\n",
       "      <td>0.997299</td>\n",
       "      <td>0.473384</td>\n",
       "      <td>...</td>\n",
       "      <td>1.671700</td>\n",
       "      <td>-1.503691</td>\n",
       "      <td>-0.000270</td>\n",
       "      <td>0.352333</td>\n",
       "      <td>1.312137</td>\n",
       "      <td>2.473517</td>\n",
       "      <td>1.987936</td>\n",
       "      <td>-0.371570</td>\n",
       "      <td>-0.152840</td>\n",
       "      <td>0</td>\n",
       "    </tr>\n",
       "    <tr>\n",
       "      <th>2</th>\n",
       "      <td>1.401293</td>\n",
       "      <td>-1.170002</td>\n",
       "      <td>-1.910623</td>\n",
       "      <td>-1.678237</td>\n",
       "      <td>-1.331836</td>\n",
       "      <td>-0.262826</td>\n",
       "      <td>-0.239188</td>\n",
       "      <td>-2.760731</td>\n",
       "      <td>0.980949</td>\n",
       "      <td>-0.749548</td>\n",
       "      <td>...</td>\n",
       "      <td>0.227508</td>\n",
       "      <td>-0.222122</td>\n",
       "      <td>0.164042</td>\n",
       "      <td>1.212141</td>\n",
       "      <td>-0.439288</td>\n",
       "      <td>-0.845043</td>\n",
       "      <td>-0.726364</td>\n",
       "      <td>-0.609433</td>\n",
       "      <td>2.827499</td>\n",
       "      <td>1</td>\n",
       "    </tr>\n",
       "    <tr>\n",
       "      <th>3</th>\n",
       "      <td>1.028631</td>\n",
       "      <td>2.510518</td>\n",
       "      <td>-2.487426</td>\n",
       "      <td>-1.320138</td>\n",
       "      <td>-0.626425</td>\n",
       "      <td>0.519601</td>\n",
       "      <td>-0.337771</td>\n",
       "      <td>0.985315</td>\n",
       "      <td>-0.002516</td>\n",
       "      <td>-0.718990</td>\n",
       "      <td>...</td>\n",
       "      <td>-4.737764</td>\n",
       "      <td>-1.080200</td>\n",
       "      <td>1.218489</td>\n",
       "      <td>-0.105760</td>\n",
       "      <td>1.902067</td>\n",
       "      <td>0.346028</td>\n",
       "      <td>0.582876</td>\n",
       "      <td>-0.911432</td>\n",
       "      <td>0.091329</td>\n",
       "      <td>1</td>\n",
       "    </tr>\n",
       "    <tr>\n",
       "      <th>4</th>\n",
       "      <td>-1.468179</td>\n",
       "      <td>0.814316</td>\n",
       "      <td>-1.355822</td>\n",
       "      <td>1.182153</td>\n",
       "      <td>0.631140</td>\n",
       "      <td>-0.987539</td>\n",
       "      <td>-2.478349</td>\n",
       "      <td>1.939424</td>\n",
       "      <td>-1.795490</td>\n",
       "      <td>1.060939</td>\n",
       "      <td>...</td>\n",
       "      <td>0.292558</td>\n",
       "      <td>-0.706161</td>\n",
       "      <td>1.391773</td>\n",
       "      <td>-1.418970</td>\n",
       "      <td>-1.198434</td>\n",
       "      <td>-2.238392</td>\n",
       "      <td>0.790045</td>\n",
       "      <td>-0.217661</td>\n",
       "      <td>2.090368</td>\n",
       "      <td>0</td>\n",
       "    </tr>\n",
       "  </tbody>\n",
       "</table>\n",
       "<p>5 rows × 21 columns</p>\n",
       "</div>"
      ],
      "text/plain": [
       "   Feature_1  Feature_2  Feature_3  Feature_4  Feature_5  Feature_6  \\\n",
       "0   0.081546  -0.801783  -1.037828  -1.480850   0.926351  -0.182794   \n",
       "1  -0.280103  -0.271264  -0.431566   1.285697  -0.049563  -3.713341   \n",
       "2   1.401293  -1.170002  -1.910623  -1.678237  -1.331836  -0.262826   \n",
       "3   1.028631   2.510518  -2.487426  -1.320138  -0.626425   0.519601   \n",
       "4  -1.468179   0.814316  -1.355822   1.182153   0.631140  -0.987539   \n",
       "\n",
       "   Feature_7  Feature_8  Feature_9  Feature_10  ...  Feature_12  Feature_13  \\\n",
       "0   0.357295  -1.083902   0.851105    0.083213  ...    0.051561   -0.194943   \n",
       "1   3.942434  -0.323473   0.997299    0.473384  ...    1.671700   -1.503691   \n",
       "2  -0.239188  -2.760731   0.980949   -0.749548  ...    0.227508   -0.222122   \n",
       "3  -0.337771   0.985315  -0.002516   -0.718990  ...   -4.737764   -1.080200   \n",
       "4  -2.478349   1.939424  -1.795490    1.060939  ...    0.292558   -0.706161   \n",
       "\n",
       "   Feature_14  Feature_15  Feature_16  Feature_17  Feature_18  Feature_19  \\\n",
       "0   -0.244506   -0.143106   -0.263665   -0.408418   -1.885802   -0.042930   \n",
       "1   -0.000270    0.352333    1.312137    2.473517    1.987936   -0.371570   \n",
       "2    0.164042    1.212141   -0.439288   -0.845043   -0.726364   -0.609433   \n",
       "3    1.218489   -0.105760    1.902067    0.346028    0.582876   -0.911432   \n",
       "4    1.391773   -1.418970   -1.198434   -2.238392    0.790045   -0.217661   \n",
       "\n",
       "   Feature_20  Class  \n",
       "0    1.175097      1  \n",
       "1   -0.152840      0  \n",
       "2    2.827499      1  \n",
       "3    0.091329      1  \n",
       "4    2.090368      0  \n",
       "\n",
       "[5 rows x 21 columns]"
      ]
     },
     "execution_count": 9,
     "metadata": {},
     "output_type": "execute_result"
    }
   ],
   "source": [
    "data = pd.read_csv('../Data/validation_dataset.csv')  \n",
    "data.head()"
   ]
  },
  {
   "cell_type": "markdown",
   "id": "0e387017-f492-4683-a2e7-9ecf01100690",
   "metadata": {},
   "source": [
    "### Dataset Information "
   ]
  },
  {
   "cell_type": "code",
   "execution_count": 10,
   "id": "6e87d052-6340-46f9-9ab4-59219e9486ca",
   "metadata": {},
   "outputs": [
    {
     "name": "stdout",
     "output_type": "stream",
     "text": [
      "Dataset Shape: (1000, 21)\n",
      "Data Types:\n",
      "Feature_1     float64\n",
      "Feature_2     float64\n",
      "Feature_3     float64\n",
      "Feature_4     float64\n",
      "Feature_5     float64\n",
      "Feature_6     float64\n",
      "Feature_7     float64\n",
      "Feature_8     float64\n",
      "Feature_9     float64\n",
      "Feature_10    float64\n",
      "Feature_11    float64\n",
      "Feature_12    float64\n",
      "Feature_13    float64\n",
      "Feature_14    float64\n",
      "Feature_15    float64\n",
      "Feature_16    float64\n",
      "Feature_17    float64\n",
      "Feature_18    float64\n",
      "Feature_19    float64\n",
      "Feature_20    float64\n",
      "Class           int64\n",
      "dtype: object\n",
      "Missing Values:\n",
      "Feature_1     0\n",
      "Feature_2     0\n",
      "Feature_3     0\n",
      "Feature_4     0\n",
      "Feature_5     0\n",
      "Feature_6     0\n",
      "Feature_7     0\n",
      "Feature_8     0\n",
      "Feature_9     0\n",
      "Feature_10    0\n",
      "Feature_11    0\n",
      "Feature_12    0\n",
      "Feature_13    0\n",
      "Feature_14    0\n",
      "Feature_15    0\n",
      "Feature_16    0\n",
      "Feature_17    0\n",
      "Feature_18    0\n",
      "Feature_19    0\n",
      "Feature_20    0\n",
      "Class         0\n",
      "dtype: int64\n"
     ]
    }
   ],
   "source": [
    "# Dataset information: shape, Null values, and data types\n",
    "print(f\"Dataset Shape: {data.shape}\")\n",
    "print(f\"Data Types:\\n{data.dtypes}\")\n",
    "print(f\"Missing Values:\\n{data.isnull().sum()}\")"
   ]
  },
  {
   "cell_type": "code",
   "execution_count": 12,
   "id": "d92b13b8-6bf5-44df-ba12-0f5a34e69376",
   "metadata": {},
   "outputs": [
    {
     "name": "stdout",
     "output_type": "stream",
     "text": [
      "\n",
      "Class Distribution:\n",
      "Class\n",
      "1    296\n",
      "0    295\n",
      "3    205\n",
      "2    204\n",
      "Name: count, dtype: int64\n"
     ]
    },
    {
     "name": "stderr",
     "output_type": "stream",
     "text": [
      "/tmp/ipykernel_76425/1057298849.py:7: FutureWarning: \n",
      "\n",
      "Passing `palette` without assigning `hue` is deprecated and will be removed in v0.14.0. Assign the `x` variable to `hue` and set `legend=False` for the same effect.\n",
      "\n",
      "  sns.countplot(x=y, palette='viridis')\n"
     ]
    },
    {
     "data": {
      "image/png": "[encoded data removed]",
      "text/plain": [
       "<Figure size 600x400 with 1 Axes>"
      ]
     },
     "metadata": {},
     "output_type": "display_data"
    }
   ],
   "source": [
    "# Distribution of classes in the target variable\n",
    "class_distribution = y.value_counts()\n",
    "print(f\"\\nClass Distribution:\\n{class_distribution}\")\n",
    "\n",
    "# Visualize the distribution of classes using a bar plot\n",
    "plt.figure(figsize=(6, 4))\n",
    "sns.countplot(x=y, palette='viridis')\n",
    "plt.title('Class Distribution in the Dataset')\n",
    "plt.xlabel('Class')\n",
    "plt.ylabel('Count')\n",
    "plt.show()"
   ]
  },
  {
   "cell_type": "markdown",
   "id": "f5b2ce27-569d-4df2-be9c-5d70daec3761",
   "metadata": {},
   "source": [
    "### Dataset PreProcessing"
   ]
  },
  {
   "cell_type": "code",
   "execution_count": 11,
   "id": "b96c5d00-7093-4691-8dc6-00bb73136147",
   "metadata": {},
   "outputs": [],
   "source": [
    "X = data.drop('Class', axis=1)\n",
    "y = data['Class'] \n",
    "\n",
    "# Standardize the features\n",
    "scaler = StandardScaler()\n",
    "X_scaled = scaler.fit_transform(X)"
   ]
  },
  {
   "cell_type": "markdown",
   "id": "0f536450-ffea-4543-a9ea-285da12f44e4",
   "metadata": {},
   "source": [
    "## **Loading the Models**"
   ]
  },
  {
   "cell_type": "markdown",
   "id": "d803ea4d-5496-43ab-986c-bd587d49ba09",
   "metadata": {},
   "source": [
    "### Importing Required Libraries"
   ]
  },
  {
   "cell_type": "markdown",
   "id": "ff2c0914-2c0b-462d-a213-e1fc13bbb88d",
   "metadata": {},
   "source": [
    "## **Model Evaluation**"
   ]
  },
  {
   "cell_type": "markdown",
   "id": "f72f404b-6661-4ce3-8bab-a0f7fb273cc4",
   "metadata": {},
   "source": [
    "### Importing Required Libraries"
   ]
  },
  {
   "cell_type": "markdown",
   "id": "15990fd8-3c24-4d29-a027-689ddef60240",
   "metadata": {},
   "source": [
    "## **Confusion Matrix Visualization**"
   ]
  },
  {
   "cell_type": "markdown",
   "id": "43655b82-66cf-44e5-aa45-67f970ecaaa2",
   "metadata": {},
   "source": [
    "### Importing Required Libraries"
   ]
  },
  {
   "cell_type": "markdown",
   "id": "5efccf46-9b92-414b-bace-0963f5e51a8e",
   "metadata": {},
   "source": [
    "## **Classification Report Analysis**"
   ]
  },
  {
   "cell_type": "markdown",
   "id": "6c3471a9-c125-4d89-852d-519c023faf40",
   "metadata": {},
   "source": [
    "### Importing Required Libraries"
   ]
  },
  {
   "cell_type": "markdown",
   "id": "d7a265ed-736d-4e52-bd7d-7d8122b2d4d1",
   "metadata": {},
   "source": [
    "## Comparison Between Models"
   ]
  },
  {
   "cell_type": "markdown",
   "id": "52fdf3cb-cbf4-45c4-913d-ef4c8e6f0d33",
   "metadata": {},
   "source": [
    "### Importing Required Libraries"
   ]
  },
  {
   "cell_type": "code",
   "execution_count": null,
   "id": "c5f75fb7-3d47-4954-800a-cdde457170a2",
   "metadata": {},
   "outputs": [],
   "source": []
  }
 ],
 "metadata": {
  "kernelspec": {
   "display_name": "Python 3 (ipykernel)",
   "language": "python",
   "name": "python3"
  },
  "language_info": {
   "codemirror_mode": {
    "name": "ipython",
    "version": 3
   },
   "file_extension": ".py",
   "mimetype": "text/x-python",
   "name": "python",
   "nbconvert_exporter": "python",
   "pygments_lexer": "ipython3",
   "version": "3.12.3"
  }
 },
 "nbformat": 4,
 "nbformat_minor": 5
}
